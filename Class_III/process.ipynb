{
 "cells": [
  {
   "cell_type": "code",
   "execution_count": 1,
   "metadata": {},
   "outputs": [
    {
     "name": "stderr",
     "output_type": "stream",
     "text": [
      "/home/tek2991/anaconda3/lib/python3.9/site-packages/scipy/__init__.py:146: UserWarning: A NumPy version >=1.16.5 and <1.23.0 is required for this version of SciPy (detected version 1.23.5\n",
      "  warnings.warn(f\"A NumPy version >={np_minversion} and <{np_maxversion}\"\n"
     ]
    }
   ],
   "source": [
    "# Import libraries\n",
    "import numpy as np;\n",
    "import pandas as pd;\n",
    "import matplotlib.pyplot as plt;\n",
    "import seaborn as sns;"
   ]
  },
  {
   "cell_type": "code",
   "execution_count": 2,
   "metadata": {},
   "outputs": [],
   "source": [
    "# Import data from excel files\n",
    "df1 = pd.read_excel('Formative Assessment -I_class_III.xlsx');\n",
    "# Update all values of Exam Name to FA-I\n",
    "df1['Exam Name'] = 'FA-I';\n",
    "\n",
    "df2 = pd.read_excel('F.A-2_class_III.xlsx');\n",
    "# Update all values of Exam Name to FA-II\n",
    "df2['Exam Name'] = 'FA-II';\n",
    "\n",
    "df3 = pd.read_excel('Half Yearly Exam -2023_class_III.xlsx');\n",
    "# Update all values of Exam Name to HY\n",
    "df3['Exam Name'] = 'HY';\n",
    "\n",
    "# In df3, where the Full Mark is not 100, multuply the Full Mark, Pass Mark and Marks Secured by 100/Full Mark\n",
    "df3.loc[df3['Full Mark']!=100, 'Pass Mark'] = df3['Pass Mark']*100/df3['Full Mark'];\n",
    "df3.loc[df3['Full Mark']!=100, 'Marks Secured'] = df3['Marks Secured']*100/df3['Full Mark'];\n",
    "df3.loc[df3['Full Mark']!=100, 'Full Mark'] = df3['Full Mark']*100/df3['Full Mark'];\n",
    "\n",
    "# Merge the dataframes\n",
    "df = pd.concat([df1, df2, df3], ignore_index=True);\n",
    "\n",
    "# print the head\n",
    "# df"
   ]
  },
  {
   "cell_type": "code",
   "execution_count": 3,
   "metadata": {},
   "outputs": [
    {
     "name": "stdout",
     "output_type": "stream",
     "text": [
      "Number of cells with value 0 in marks secured column:  74\n",
      "Student names with value 0 in marks secured column:  ['Sushant Sarma' 'Sneha Dey' 'Shahid Hussain' 'Dikshita Biswas'\n",
      " 'Taniya Dey' 'Kaushik Sharma' 'Krikhamoni  Taro' 'Himanshu Rohang'\n",
      " 'Priya Chetry' 'Mrigakshi Teron' 'Konkona Basumatary' 'Ayush Sharki'\n",
      " 'Suranjit Chaudhary' 'Diksha Sarkar' 'Madhusmita Bordoloi' 'Ayush Sunar'\n",
      " 'Ronit Rohang']\n"
     ]
    }
   ],
   "source": [
    "# Print the number of cells with value 0 in marks secured column\n",
    "print('Number of cells with value 0 in marks secured column: ', df[df['Marks Secured']==0].shape[0])\n",
    "\n",
    "# Print the student names with value 0 in marks secured column\n",
    "print('Student names with value 0 in marks secured column: ', df[df['Marks Secured']==0]['Student Name'].unique())"
   ]
  },
  {
   "cell_type": "code",
   "execution_count": 4,
   "metadata": {},
   "outputs": [],
   "source": [
    "# Get all the Subject names\n",
    "subjects = df['Subject Name'].unique();\n",
    "\n",
    "# Get all the students\n",
    "students = df['Student Name'].unique();\n",
    "\n",
    "# Get all the Exam names\n",
    "exams = df['Exam Name'].unique();"
   ]
  },
  {
   "cell_type": "code",
   "execution_count": 5,
   "metadata": {},
   "outputs": [
    {
     "name": "stdout",
     "output_type": "stream",
     "text": [
      "Number of Subjects:  10\n",
      "Subjects:  ['Maths' 'English I' 'Hindi' 'EVS' 'English II' 'Assamese' 'Computer'\n",
      " 'Drawing' 'Moral Science' 'General Knowledge']\n",
      "Number of Students:  51\n",
      "Students:  ['Ranbir Gurung' 'Krishnangi Haloi' 'Dev Kumar Thapa' 'Anjal Giri'\n",
      " 'Bristi Rani Das' 'Papiya Chakraborty' 'Himanshu Rohang' 'Priya Chetry'\n",
      " 'Dibanshi Das' 'Ashish Sapkota' 'Riyan Chanda' 'Mrigakshi Teron'\n",
      " 'Nipam Das' 'Gaurav Ram' 'Sushant Sarma' 'Angshu man Sharma' 'Sneha Dey'\n",
      " 'Gyan Jyoti Das' 'Konkona Basumatary' 'Manisha Upadhaya' 'Ayush Sharki'\n",
      " 'Shahid Hussain' 'Suranjana khaklari' 'Deepti Rani Kalita'\n",
      " 'Dikshita Biswas' 'Eshika Deka' 'Prashanta Sharma' 'Debraj Dey'\n",
      " 'Gaurav kumar' 'Kushal Rout' 'Anurag Das' 'Suranjit Chaudhary'\n",
      " 'Susmita Das' 'Mirjang Rongpee' 'Subham Gupta' 'Taniya Dey'\n",
      " 'Diksha Sarkar' 'Shreedhar Sharma' 'Abdar Ali' 'Madhusmita Bordoloi'\n",
      " 'Mandeep Kashyap' 'Ayush Sunar' 'Abhilasha Das' 'Manish Sharma'\n",
      " 'Mrityunjay Ray' 'Bahumanya kr Singha' 'Dhanvi Devi' 'Ronit Rohang'\n",
      " 'Kaushik Sharma' 'Aysha Kumari' 'Krikhamoni  Taro']\n",
      "Number of Exams:  3\n",
      "Exams:  ['FA-I' 'FA-II' 'HY']\n"
     ]
    }
   ],
   "source": [
    "# print the number of subjects\n",
    "print('Number of Subjects: ', len(subjects)); \n",
    "# Print the subjects\n",
    "print('Subjects: ', subjects);\n",
    "# print the number of students\n",
    "print('Number of Students: ', len(students));\n",
    "# Print the students\n",
    "print('Students: ', students);\n",
    "# print the number of exams\n",
    "print('Number of Exams: ', len(exams));\n",
    "# Print the exams\n",
    "print('Exams: ', exams);"
   ]
  },
  {
   "cell_type": "code",
   "execution_count": 6,
   "metadata": {},
   "outputs": [],
   "source": [
    "# Create a new dataframe for students data\n",
    "df_new = pd.DataFrame(students, columns=['Student Name']);\n",
    "\n",
    "# Loop through all the students\n",
    "for student in students:\n",
    "    # Find the first row of the student in the dataframe\n",
    "    row = df.loc[df['Student Name'] == student].iloc[0];\n",
    "    # Add the Class, Section, Roll No to the new dataframe\n",
    "    df_new.loc[df_new['Student Name'] == student, 'Class'] = row['Class'];\n",
    "    df_new.loc[df_new['Student Name'] == student, 'Section'] = row['Section'];\n",
    "    df_new.loc[df_new['Student Name'] == student, 'Roll No'] = row['Roll No'];\n",
    "\n",
    "# df_new.head()"
   ]
  },
  {
   "cell_type": "code",
   "execution_count": 7,
   "metadata": {},
   "outputs": [],
   "source": [
    "# Add columns for each exam and subject\n",
    "for exam in exams:\n",
    "    for subject in subjects:\n",
    "        df_new[exam + '_' + subject] = 0;\n",
    "        df_new[exam + '_' + subject + '_total'] = 0;\n",
    "        df_new[exam + '_' + subject + '_pass'] = 0;\n",
    "\n",
    "# df_new"
   ]
  },
  {
   "cell_type": "code",
   "execution_count": 8,
   "metadata": {},
   "outputs": [],
   "source": [
    "# Add marks to the new dataframe\n",
    "for student in students:\n",
    "    for exam in exams:\n",
    "        for subject in subjects:\n",
    "            # check if the subject is present in the exam\n",
    "            if df.loc[(df['Exam Name'] == exam) & (df['Subject Name'] == subject)].empty:\n",
    "                continue;\n",
    "            \n",
    "            # full marks\n",
    "            full_mark = df.loc[(df['Exam Name'] == exam) & (df['Subject Name'] == subject), 'Full Mark'].iloc[0];\n",
    "            \n",
    "            # pass marks\n",
    "            pass_mark = df.loc[(df['Exam Name'] == exam) & (df['Subject Name'] == subject), 'Pass Mark'].iloc[0];\n",
    "            # Check if the row of the student esist in the dataframe\n",
    "            if df.loc[(df['Student Name'] == student) & (df['Exam Name'] == exam) & (df['Subject Name'] == subject)].empty:\n",
    "                # If it doesn't exist, add 0 to the new dataframe\n",
    "                df_new.loc[df_new['Student Name'] == student, exam + '_' + subject] = 0;\n",
    "                df_new.loc[df_new['Student Name'] == student, exam + '_' + subject + '_total'] = full_mark;\n",
    "                df_new.loc[df_new['Student Name'] == student, exam + '_' + subject + '_pass'] = pass_mark;\n",
    "            else:\n",
    "                # If it exists, get the row\n",
    "                row = df.loc[(df['Student Name'] == student) & (df['Exam Name'] == exam) & (df['Subject Name'] == subject)].iloc[0];\n",
    "                # Add the marks to the new dataframe\n",
    "                df_new.loc[df_new['Student Name'] == student, exam + '_' + subject] = row['Marks Secured'];\n",
    "                df_new.loc[df_new['Student Name'] == student, exam + '_' + subject + '_total'] = full_mark;\n",
    "                df_new.loc[df_new['Student Name'] == student, exam + '_' + subject + '_pass'] = pass_mark;\n",
    "# df_new"
   ]
  },
  {
   "cell_type": "code",
   "execution_count": 9,
   "metadata": {},
   "outputs": [
    {
     "name": "stderr",
     "output_type": "stream",
     "text": [
      "/tmp/ipykernel_10352/1815918747.py:3: PerformanceWarning: DataFrame is highly fragmented.  This is usually the result of calling `frame.insert` many times, which has poor performance.  Consider joining all columns at once using pd.concat(axis=1) instead. To get a de-fragmented frame, use `newframe = frame.copy()`\n",
      "  df_new['Weightage ' + subject] = np.nan;\n",
      "/tmp/ipykernel_10352/1815918747.py:3: PerformanceWarning: DataFrame is highly fragmented.  This is usually the result of calling `frame.insert` many times, which has poor performance.  Consider joining all columns at once using pd.concat(axis=1) instead. To get a de-fragmented frame, use `newframe = frame.copy()`\n",
      "  df_new['Weightage ' + subject] = np.nan;\n",
      "/tmp/ipykernel_10352/1815918747.py:3: PerformanceWarning: DataFrame is highly fragmented.  This is usually the result of calling `frame.insert` many times, which has poor performance.  Consider joining all columns at once using pd.concat(axis=1) instead. To get a de-fragmented frame, use `newframe = frame.copy()`\n",
      "  df_new['Weightage ' + subject] = np.nan;\n",
      "/tmp/ipykernel_10352/1815918747.py:3: PerformanceWarning: DataFrame is highly fragmented.  This is usually the result of calling `frame.insert` many times, which has poor performance.  Consider joining all columns at once using pd.concat(axis=1) instead. To get a de-fragmented frame, use `newframe = frame.copy()`\n",
      "  df_new['Weightage ' + subject] = np.nan;\n"
     ]
    }
   ],
   "source": [
    "# Add weightage column for each subject\n",
    "for subject in subjects:\n",
    "    df_new['Weightage ' + subject] = np.nan;\n",
    "\n",
    "# df_new.head()"
   ]
  },
  {
   "cell_type": "code",
   "execution_count": 10,
   "metadata": {},
   "outputs": [
    {
     "name": "stderr",
     "output_type": "stream",
     "text": [
      "/tmp/ipykernel_10352/1129329531.py:12: PerformanceWarning: DataFrame is highly fragmented.  This is usually the result of calling `frame.insert` many times, which has poor performance.  Consider joining all columns at once using pd.concat(axis=1) instead. To get a de-fragmented frame, use `newframe = frame.copy()`\n",
      "  df_new['Weightage ' + subject + ' total'] = df_new['FA-I_' + subject + '_total'] * 0.4 + df_new['FA-II_' + subject + '_total'] * 0.4 + df_new['HY_' + subject + '_total'] * 0.8;\n",
      "/tmp/ipykernel_10352/1129329531.py:12: PerformanceWarning: DataFrame is highly fragmented.  This is usually the result of calling `frame.insert` many times, which has poor performance.  Consider joining all columns at once using pd.concat(axis=1) instead. To get a de-fragmented frame, use `newframe = frame.copy()`\n",
      "  df_new['Weightage ' + subject + ' total'] = df_new['FA-I_' + subject + '_total'] * 0.4 + df_new['FA-II_' + subject + '_total'] * 0.4 + df_new['HY_' + subject + '_total'] * 0.8;\n",
      "/tmp/ipykernel_10352/1129329531.py:12: PerformanceWarning: DataFrame is highly fragmented.  This is usually the result of calling `frame.insert` many times, which has poor performance.  Consider joining all columns at once using pd.concat(axis=1) instead. To get a de-fragmented frame, use `newframe = frame.copy()`\n",
      "  df_new['Weightage ' + subject + ' total'] = df_new['FA-I_' + subject + '_total'] * 0.4 + df_new['FA-II_' + subject + '_total'] * 0.4 + df_new['HY_' + subject + '_total'] * 0.8;\n",
      "/tmp/ipykernel_10352/1129329531.py:12: PerformanceWarning: DataFrame is highly fragmented.  This is usually the result of calling `frame.insert` many times, which has poor performance.  Consider joining all columns at once using pd.concat(axis=1) instead. To get a de-fragmented frame, use `newframe = frame.copy()`\n",
      "  df_new['Weightage ' + subject + ' total'] = df_new['FA-I_' + subject + '_total'] * 0.4 + df_new['FA-II_' + subject + '_total'] * 0.4 + df_new['HY_' + subject + '_total'] * 0.8;\n",
      "/tmp/ipykernel_10352/1129329531.py:12: PerformanceWarning: DataFrame is highly fragmented.  This is usually the result of calling `frame.insert` many times, which has poor performance.  Consider joining all columns at once using pd.concat(axis=1) instead. To get a de-fragmented frame, use `newframe = frame.copy()`\n",
      "  df_new['Weightage ' + subject + ' total'] = df_new['FA-I_' + subject + '_total'] * 0.4 + df_new['FA-II_' + subject + '_total'] * 0.4 + df_new['HY_' + subject + '_total'] * 0.8;\n",
      "/tmp/ipykernel_10352/1129329531.py:12: PerformanceWarning: DataFrame is highly fragmented.  This is usually the result of calling `frame.insert` many times, which has poor performance.  Consider joining all columns at once using pd.concat(axis=1) instead. To get a de-fragmented frame, use `newframe = frame.copy()`\n",
      "  df_new['Weightage ' + subject + ' total'] = df_new['FA-I_' + subject + '_total'] * 0.4 + df_new['FA-II_' + subject + '_total'] * 0.4 + df_new['HY_' + subject + '_total'] * 0.8;\n",
      "/tmp/ipykernel_10352/1129329531.py:12: PerformanceWarning: DataFrame is highly fragmented.  This is usually the result of calling `frame.insert` many times, which has poor performance.  Consider joining all columns at once using pd.concat(axis=1) instead. To get a de-fragmented frame, use `newframe = frame.copy()`\n",
      "  df_new['Weightage ' + subject + ' total'] = df_new['FA-I_' + subject + '_total'] * 0.4 + df_new['FA-II_' + subject + '_total'] * 0.4 + df_new['HY_' + subject + '_total'] * 0.8;\n",
      "/tmp/ipykernel_10352/1129329531.py:8: PerformanceWarning: DataFrame is highly fragmented.  This is usually the result of calling `frame.insert` many times, which has poor performance.  Consider joining all columns at once using pd.concat(axis=1) instead. To get a de-fragmented frame, use `newframe = frame.copy()`\n",
      "  df_new['Weightage ' + subject + ' total'] = df_new['HY_' + subject + '_total'] * 1;\n",
      "/tmp/ipykernel_10352/1129329531.py:8: PerformanceWarning: DataFrame is highly fragmented.  This is usually the result of calling `frame.insert` many times, which has poor performance.  Consider joining all columns at once using pd.concat(axis=1) instead. To get a de-fragmented frame, use `newframe = frame.copy()`\n",
      "  df_new['Weightage ' + subject + ' total'] = df_new['HY_' + subject + '_total'] * 1;\n",
      "/tmp/ipykernel_10352/1129329531.py:8: PerformanceWarning: DataFrame is highly fragmented.  This is usually the result of calling `frame.insert` many times, which has poor performance.  Consider joining all columns at once using pd.concat(axis=1) instead. To get a de-fragmented frame, use `newframe = frame.copy()`\n",
      "  df_new['Weightage ' + subject + ' total'] = df_new['HY_' + subject + '_total'] * 1;\n"
     ]
    }
   ],
   "source": [
    "# Calculate the weightage for each subject by taking the 40% from FA1, 40% from FA2 and 80% from Half Yearly\n",
    "for subject in subjects:\n",
    "    # If the subject is not present in FA1, FA2\n",
    "    if df_new['FA-I_' + subject].sum() == 0 or df_new['FA-II_' + subject].sum() == 0:\n",
    "        # Calculate the weightage for each subject by taking the 100% from Half Yearly\n",
    "        df_new['Weightage ' + subject] = round(df_new['HY_' + subject] * 1, 2);\n",
    "        # Calculate the full weightage for each subject by taking the 100% from Half Yearly\n",
    "        df_new['Weightage ' + subject + ' total'] = df_new['HY_' + subject + '_total'] * 1;\n",
    "    else:\n",
    "        df_new['Weightage ' + subject] = round(df_new['FA-I_' + subject] * 0.4 + df_new['FA-II_' + subject] * 0.4 + df_new['HY_' + subject] * 0.8, 2);\n",
    "        # Calculate the full weightage for each subject by taking the 40% from FA1, 40% from FA2 and 80% from Half Yearly\n",
    "        df_new['Weightage ' + subject + ' total'] = df_new['FA-I_' + subject + '_total'] * 0.4 + df_new['FA-II_' + subject + '_total'] * 0.4 + df_new['HY_' + subject + '_total'] * 0.8;"
   ]
  },
  {
   "cell_type": "code",
   "execution_count": 11,
   "metadata": {},
   "outputs": [
    {
     "name": "stderr",
     "output_type": "stream",
     "text": [
      "/tmp/ipykernel_10352/717132809.py:4: PerformanceWarning: DataFrame is highly fragmented.  This is usually the result of calling `frame.insert` many times, which has poor performance.  Consider joining all columns at once using pd.concat(axis=1) instead. To get a de-fragmented frame, use `newframe = frame.copy()`\n",
      "  df_new['Result ' + subject] = np.where(df_new['Weightage ' + subject] >= df_new['Weightage ' + subject + ' total'] * 0.3, 'Pass', 'Fail');\n",
      "/tmp/ipykernel_10352/717132809.py:4: PerformanceWarning: DataFrame is highly fragmented.  This is usually the result of calling `frame.insert` many times, which has poor performance.  Consider joining all columns at once using pd.concat(axis=1) instead. To get a de-fragmented frame, use `newframe = frame.copy()`\n",
      "  df_new['Result ' + subject] = np.where(df_new['Weightage ' + subject] >= df_new['Weightage ' + subject + ' total'] * 0.3, 'Pass', 'Fail');\n",
      "/tmp/ipykernel_10352/717132809.py:4: PerformanceWarning: DataFrame is highly fragmented.  This is usually the result of calling `frame.insert` many times, which has poor performance.  Consider joining all columns at once using pd.concat(axis=1) instead. To get a de-fragmented frame, use `newframe = frame.copy()`\n",
      "  df_new['Result ' + subject] = np.where(df_new['Weightage ' + subject] >= df_new['Weightage ' + subject + ' total'] * 0.3, 'Pass', 'Fail');\n",
      "/tmp/ipykernel_10352/717132809.py:4: PerformanceWarning: DataFrame is highly fragmented.  This is usually the result of calling `frame.insert` many times, which has poor performance.  Consider joining all columns at once using pd.concat(axis=1) instead. To get a de-fragmented frame, use `newframe = frame.copy()`\n",
      "  df_new['Result ' + subject] = np.where(df_new['Weightage ' + subject] >= df_new['Weightage ' + subject + ' total'] * 0.3, 'Pass', 'Fail');\n",
      "/tmp/ipykernel_10352/717132809.py:4: PerformanceWarning: DataFrame is highly fragmented.  This is usually the result of calling `frame.insert` many times, which has poor performance.  Consider joining all columns at once using pd.concat(axis=1) instead. To get a de-fragmented frame, use `newframe = frame.copy()`\n",
      "  df_new['Result ' + subject] = np.where(df_new['Weightage ' + subject] >= df_new['Weightage ' + subject + ' total'] * 0.3, 'Pass', 'Fail');\n",
      "/tmp/ipykernel_10352/717132809.py:4: PerformanceWarning: DataFrame is highly fragmented.  This is usually the result of calling `frame.insert` many times, which has poor performance.  Consider joining all columns at once using pd.concat(axis=1) instead. To get a de-fragmented frame, use `newframe = frame.copy()`\n",
      "  df_new['Result ' + subject] = np.where(df_new['Weightage ' + subject] >= df_new['Weightage ' + subject + ' total'] * 0.3, 'Pass', 'Fail');\n",
      "/tmp/ipykernel_10352/717132809.py:4: PerformanceWarning: DataFrame is highly fragmented.  This is usually the result of calling `frame.insert` many times, which has poor performance.  Consider joining all columns at once using pd.concat(axis=1) instead. To get a de-fragmented frame, use `newframe = frame.copy()`\n",
      "  df_new['Result ' + subject] = np.where(df_new['Weightage ' + subject] >= df_new['Weightage ' + subject + ' total'] * 0.3, 'Pass', 'Fail');\n",
      "/tmp/ipykernel_10352/717132809.py:4: PerformanceWarning: DataFrame is highly fragmented.  This is usually the result of calling `frame.insert` many times, which has poor performance.  Consider joining all columns at once using pd.concat(axis=1) instead. To get a de-fragmented frame, use `newframe = frame.copy()`\n",
      "  df_new['Result ' + subject] = np.where(df_new['Weightage ' + subject] >= df_new['Weightage ' + subject + ' total'] * 0.3, 'Pass', 'Fail');\n",
      "/tmp/ipykernel_10352/717132809.py:4: PerformanceWarning: DataFrame is highly fragmented.  This is usually the result of calling `frame.insert` many times, which has poor performance.  Consider joining all columns at once using pd.concat(axis=1) instead. To get a de-fragmented frame, use `newframe = frame.copy()`\n",
      "  df_new['Result ' + subject] = np.where(df_new['Weightage ' + subject] >= df_new['Weightage ' + subject + ' total'] * 0.3, 'Pass', 'Fail');\n",
      "/tmp/ipykernel_10352/717132809.py:4: PerformanceWarning: DataFrame is highly fragmented.  This is usually the result of calling `frame.insert` many times, which has poor performance.  Consider joining all columns at once using pd.concat(axis=1) instead. To get a de-fragmented frame, use `newframe = frame.copy()`\n",
      "  df_new['Result ' + subject] = np.where(df_new['Weightage ' + subject] >= df_new['Weightage ' + subject + ' total'] * 0.3, 'Pass', 'Fail');\n"
     ]
    }
   ],
   "source": [
    "# Calculate the weightage result for each subject, pass if weightage is greater than 30% of the full weightage\n",
    "for subject in subjects:\n",
    "    # calculate the weightage result\n",
    "    df_new['Result ' + subject] = np.where(df_new['Weightage ' + subject] >= df_new['Weightage ' + subject + ' total'] * 0.3, 'Pass', 'Fail');"
   ]
  },
  {
   "cell_type": "code",
   "execution_count": 12,
   "metadata": {},
   "outputs": [
    {
     "name": "stderr",
     "output_type": "stream",
     "text": [
      "/tmp/ipykernel_10352/2837791970.py:2: PerformanceWarning: DataFrame is highly fragmented.  This is usually the result of calling `frame.insert` many times, which has poor performance.  Consider joining all columns at once using pd.concat(axis=1) instead. To get a de-fragmented frame, use `newframe = frame.copy()`\n",
      "  df_new['Total Weightage'] = 0;\n"
     ]
    }
   ],
   "source": [
    "# Add a total column for the weightage\n",
    "df_new['Total Weightage'] = 0;\n",
    "\n",
    "# Calculate the total weightage using a loop of all the subjects\n",
    "for subject in subjects:\n",
    "    df_new['Total Weightage'] += df_new['Weightage ' + subject];\n",
    "\n",
    "# df_new.head()"
   ]
  },
  {
   "cell_type": "code",
   "execution_count": 13,
   "metadata": {},
   "outputs": [
    {
     "name": "stderr",
     "output_type": "stream",
     "text": [
      "/tmp/ipykernel_10352/19931101.py:2: PerformanceWarning: DataFrame is highly fragmented.  This is usually the result of calling `frame.insert` many times, which has poor performance.  Consider joining all columns at once using pd.concat(axis=1) instead. To get a de-fragmented frame, use `newframe = frame.copy()`\n",
      "  df_new['Result'] = '';\n"
     ]
    }
   ],
   "source": [
    "# Add a result column\n",
    "df_new['Result'] = '';\n",
    "\n",
    "# Function to add all weightage subject total\n",
    "def add_total_weightage(row):\n",
    "    total = 0;\n",
    "    for subject in subjects:\n",
    "        total += row['Weightage ' + subject + ' total'];\n",
    "    return total;\n",
    "\n",
    "\n",
    "# Add the total marks column\n",
    "df_new['Total Marks'] = df_new.apply(add_total_weightage, axis=1);\n",
    "\n",
    "# Calculate the percentage\n",
    "df_new['Percentage'] = df_new['Total Weightage'] / df_new['Total Marks'] * 100;\n",
    "\n",
    "# Pass if total weightage is greater than 30% of total full marks\n",
    "df_new.loc[df_new['Total Weightage'] >= df_new['Total Marks'] * 0.3, 'Result'] = 'Pass';\n",
    "\n",
    "# Fail if total weightage is less than 30% of total full marks\n",
    "df_new.loc[df_new['Total Weightage'] < df_new['Total Marks'] * 0.3, 'Result'] = 'Fail';"
   ]
  },
  {
   "cell_type": "code",
   "execution_count": 14,
   "metadata": {},
   "outputs": [],
   "source": [
    "# Calculate the rank\n",
    "df_new['Rank'] = df_new['Percentage'].rank(ascending=False);"
   ]
  },
  {
   "cell_type": "code",
   "execution_count": 15,
   "metadata": {},
   "outputs": [],
   "source": [
    "# Print the first row\n",
    "# df_new.iloc[0]"
   ]
  },
  {
   "cell_type": "code",
   "execution_count": 16,
   "metadata": {},
   "outputs": [],
   "source": [
    "# df_new"
   ]
  },
  {
   "cell_type": "code",
   "execution_count": 17,
   "metadata": {},
   "outputs": [],
   "source": [
    "# Export the dataframe to excel\n",
    "df_new.to_excel('Result.xlsx', index=False);"
   ]
  },
  {
   "cell_type": "code",
   "execution_count": 18,
   "metadata": {},
   "outputs": [],
   "source": [
    "# Combine the charts in one figure\n",
    "# fig, axes = plt.subplots(4, 3, figsize=(20, 30));\n",
    "\n",
    "# Set the title of the figure\n",
    "# fig.suptitle('Result Analysis: Class I', fontsize=20);\n",
    "\n",
    "# for i, subject in enumerate(subjects):\n",
    "    # sns.countplot(x='Result ' + subject, data=df_new, palette='Set1', order=['Fail', 'Pass'], ax=axes[i // 3, i % 3]);\n",
    "# plt.show();"
   ]
  },
  {
   "cell_type": "code",
   "execution_count": 19,
   "metadata": {},
   "outputs": [],
   "source": [
    "import pdfkit\n",
    "import jinja2\n",
    "import base64\n",
    "import os;\n",
    "if not os.path.exists('results'):\n",
    "    os.makedirs('results');"
   ]
  },
  {
   "cell_type": "code",
   "execution_count": 20,
   "metadata": {},
   "outputs": [],
   "source": [
    "# Options\n",
    "options = {\n",
    "    'page-size': 'A4',\n",
    "    'margin-top': '0.75in',\n",
    "    'margin-right': '0.75in',\n",
    "    'margin-bottom': '0.75in',\n",
    "    'margin-left': '0.75in',\n",
    "}"
   ]
  },
  {
   "cell_type": "code",
   "execution_count": 21,
   "metadata": {},
   "outputs": [],
   "source": [
    "# Images to base_64\n",
    "images = {\n",
    "    'seba_logo' : base64.b64encode(open('./../seba_logo.png', 'rb').read()).decode(),\n",
    "    'school_logo' : base64.b64encode(open('./../school_logo.png', 'rb').read()).decode(),\n",
    "    'sig_examiner' : base64.b64encode(open('./../sig_examiner.png', 'rb').read()).decode(),\n",
    "    'sig_principal' : base64.b64encode(open('./../sig_principal.png', 'rb').read()).decode(),\n",
    "};\n",
    "\n",
    "# Exams dictionary\n",
    "exams = {\n",
    "    'FA-I': 'Formative Assessment - I (40%)',\n",
    "    'FA-II': 'Formative Assessment - II (40%)',\n",
    "    'HY': 'Half Yearly Exam (80%)',\n",
    "};"
   ]
  },
  {
   "cell_type": "code",
   "execution_count": 22,
   "metadata": {},
   "outputs": [],
   "source": [
    "for student in students:\n",
    "    # Get the student data\n",
    "    student_data = df_new.loc[df_new['Student Name'] == student].iloc[0];\n",
    "    # Get the student name\n",
    "    student_name = student_data['Student Name'];\n",
    "    # Get the student class\n",
    "    student_class = student_data['Class'];\n",
    "    # Get the student section\n",
    "    student_section = student_data['Section'];\n",
    "    # Get the student roll no\n",
    "    student_roll_no = student_data['Roll No'];\n",
    "    # Get the student total weightage\n",
    "    student_total_weightage = student_data['Total Weightage'];\n",
    "    # Get the student total marks\n",
    "    student_total_marks = student_data['Total Marks'];\n",
    "    # Get the student percentage\n",
    "    student_percentage = student_data['Percentage'];\n",
    "    # Get the student rank\n",
    "    student_rank = student_data['Rank'];\n",
    "    # Get the student result\n",
    "    student_result = student_data['Result'];\n",
    "\n",
    "    # Get the student data\n",
    "    student_data = df_new.loc[df_new['Student Name'] == student].iloc[0].to_dict();\n",
    "\n",
    "    # export the student data to excel\n",
    "    # pd.DataFrame(student_data, index=[0]).to_excel('results/' + student_name + '_' + str(int(student_roll_no)) + '.xlsx', index=False);\n",
    "\n",
    "    context = {\n",
    "        'subjects': subjects,\n",
    "        'exams': exams,\n",
    "        'data': student_data,\n",
    "        'seba_logo': 'data:image/png;base64,' + images['seba_logo'],\n",
    "        'school_logo': 'data:image/png;base64,' + images['school_logo'],\n",
    "        'sig_examiner': 'data:image/png;base64,' + images['sig_examiner'],\n",
    "        'sig_principal': 'data:image/png;base64,' + images['sig_principal'],\n",
    "    }\n",
    "\n",
    "    # Create template\n",
    "    templateLoader = jinja2.FileSystemLoader(searchpath=\"./../\");\n",
    "    templateEnv = jinja2.Environment(loader=templateLoader);\n",
    "    template = templateEnv.get_template(\"result_template.html\");\n",
    "    # Render the template\n",
    "    output_text = template.render(context);\n",
    "\n",
    "    output_file_name = 'results/' + str(int(student_roll_no)) + '_' + student_name + '.pdf';\n",
    "    # Create pdf\n",
    "    pdfkit.from_string(output_text, output_file_name, options=options);\n"
   ]
  },
  {
   "cell_type": "code",
   "execution_count": 23,
   "metadata": {},
   "outputs": [],
   "source": [
    "# Combile all pdfs into one\n",
    "import os\n",
    "from os import listdir\n",
    "from os.path import isfile, join\n",
    "from PyPDF2 import PdfMerger\n",
    "\n",
    "# Get all the pdf files\n",
    "pdf_files = [f for f in listdir('results') if isfile(join('results', f))]\n",
    "# Sort the pdf files by name\n",
    "pdf_files.sort(key=lambda f: int(''.join(filter(str.isdigit, f))));\n",
    "\n",
    "# remove the result pdf if it exists\n",
    "if '00_Result_Class_III.pdf' in pdf_files:\n",
    "    pdf_files.remove('00_Result_Class_III.pdf');\n",
    "\n",
    "# Create a pdf merger\n",
    "merger = PdfMerger();\n",
    "\n",
    "# Add all the pdf files to the merger\n",
    "for pdf in pdf_files:\n",
    "    merger.append('results/' + pdf);\n",
    "\n",
    "# Write the merger to a file\n",
    "merger.write('results/00_Result_Class_III.pdf');\n",
    "\n",
    "# Close the merger\n",
    "merger.close();\n"
   ]
  }
 ],
 "metadata": {
  "kernelspec": {
   "display_name": "Python 3.9.7 ('base')",
   "language": "python",
   "name": "python3"
  },
  "language_info": {
   "codemirror_mode": {
    "name": "ipython",
    "version": 3
   },
   "file_extension": ".py",
   "mimetype": "text/x-python",
   "name": "python",
   "nbconvert_exporter": "python",
   "pygments_lexer": "ipython3",
   "version": "3.9.7"
  },
  "vscode": {
   "interpreter": {
    "hash": "89f5398215e4bd68194ecfb3274f78f2b2188f90ccad3a120f4c53eb3abccfec"
   }
  }
 },
 "nbformat": 4,
 "nbformat_minor": 2
}
