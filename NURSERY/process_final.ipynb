{
 "cells": [
  {
   "cell_type": "code",
   "execution_count": 1,
   "metadata": {},
   "outputs": [
    {
     "name": "stderr",
     "output_type": "stream",
     "text": [
      "/home/tek2991/anaconda3/lib/python3.9/site-packages/scipy/__init__.py:146: UserWarning: A NumPy version >=1.16.5 and <1.23.0 is required for this version of SciPy (detected version 1.23.5\n",
      "  warnings.warn(f\"A NumPy version >={np_minversion} and <{np_maxversion}\"\n"
     ]
    }
   ],
   "source": [
    "# Import libraries\n",
    "import numpy as np;\n",
    "import pandas as pd;\n",
    "import matplotlib.pyplot as plt;\n",
    "import seaborn as sns;"
   ]
  },
  {
   "cell_type": "code",
   "execution_count": 2,
   "metadata": {},
   "outputs": [
    {
     "data": {
      "text/html": [
       "<div>\n",
       "<style scoped>\n",
       "    .dataframe tbody tr th:only-of-type {\n",
       "        vertical-align: middle;\n",
       "    }\n",
       "\n",
       "    .dataframe tbody tr th {\n",
       "        vertical-align: top;\n",
       "    }\n",
       "\n",
       "    .dataframe thead th {\n",
       "        text-align: right;\n",
       "    }\n",
       "</style>\n",
       "<table border=\"1\" class=\"dataframe\">\n",
       "  <thead>\n",
       "    <tr style=\"text-align: right;\">\n",
       "      <th></th>\n",
       "      <th>Academic session</th>\n",
       "      <th>Exam Name</th>\n",
       "      <th>Exam Mode</th>\n",
       "      <th>Subject Name</th>\n",
       "      <th>Subject Status</th>\n",
       "      <th>Full Mark</th>\n",
       "      <th>Pass Mark</th>\n",
       "      <th>Negative Percentage</th>\n",
       "      <th>Student Name</th>\n",
       "      <th>Class</th>\n",
       "      <th>Section</th>\n",
       "      <th>Roll No</th>\n",
       "      <th>Marks Secured</th>\n",
       "      <th>Result</th>\n",
       "    </tr>\n",
       "  </thead>\n",
       "  <tbody>\n",
       "    <tr>\n",
       "      <th>0</th>\n",
       "      <td>2023-2024</td>\n",
       "      <td>Formative Assessment -III</td>\n",
       "      <td>Offline</td>\n",
       "      <td>Rhymes</td>\n",
       "      <td>Evaluating</td>\n",
       "      <td>25</td>\n",
       "      <td>7</td>\n",
       "      <td>0 %</td>\n",
       "      <td>Arman Ali</td>\n",
       "      <td>Nursery</td>\n",
       "      <td>A</td>\n",
       "      <td>1</td>\n",
       "      <td>5.0</td>\n",
       "      <td>Fail</td>\n",
       "    </tr>\n",
       "    <tr>\n",
       "      <th>1</th>\n",
       "      <td>2023-2024</td>\n",
       "      <td>Formative Assessment -III</td>\n",
       "      <td>Offline</td>\n",
       "      <td>Oral English</td>\n",
       "      <td>Evaluating</td>\n",
       "      <td>10</td>\n",
       "      <td>3</td>\n",
       "      <td>0 %</td>\n",
       "      <td>Arman Ali</td>\n",
       "      <td>Nursery</td>\n",
       "      <td>A</td>\n",
       "      <td>1</td>\n",
       "      <td>5.0</td>\n",
       "      <td>Pass</td>\n",
       "    </tr>\n",
       "    <tr>\n",
       "      <th>2</th>\n",
       "      <td>2023-2024</td>\n",
       "      <td>Formative Assessment -III</td>\n",
       "      <td>Offline</td>\n",
       "      <td>Oral Maths</td>\n",
       "      <td>Evaluating</td>\n",
       "      <td>10</td>\n",
       "      <td>3</td>\n",
       "      <td>0 %</td>\n",
       "      <td>Arman Ali</td>\n",
       "      <td>Nursery</td>\n",
       "      <td>A</td>\n",
       "      <td>1</td>\n",
       "      <td>0.0</td>\n",
       "      <td>Fail</td>\n",
       "    </tr>\n",
       "    <tr>\n",
       "      <th>3</th>\n",
       "      <td>2023-2024</td>\n",
       "      <td>Formative Assessment -III</td>\n",
       "      <td>Offline</td>\n",
       "      <td>English</td>\n",
       "      <td>Evaluating</td>\n",
       "      <td>25</td>\n",
       "      <td>7</td>\n",
       "      <td>0 %</td>\n",
       "      <td>Arman Ali</td>\n",
       "      <td>Nursery</td>\n",
       "      <td>A</td>\n",
       "      <td>1</td>\n",
       "      <td>2.0</td>\n",
       "      <td>Fail</td>\n",
       "    </tr>\n",
       "    <tr>\n",
       "      <th>4</th>\n",
       "      <td>2023-2024</td>\n",
       "      <td>Formative Assessment -III</td>\n",
       "      <td>Offline</td>\n",
       "      <td>Maths</td>\n",
       "      <td>Evaluating</td>\n",
       "      <td>25</td>\n",
       "      <td>7</td>\n",
       "      <td>0 %</td>\n",
       "      <td>Arman Ali</td>\n",
       "      <td>Nursery</td>\n",
       "      <td>A</td>\n",
       "      <td>1</td>\n",
       "      <td>6.0</td>\n",
       "      <td>Fail</td>\n",
       "    </tr>\n",
       "  </tbody>\n",
       "</table>\n",
       "</div>"
      ],
      "text/plain": [
       "  Academic session                  Exam Name Exam Mode  Subject Name  \\\n",
       "0        2023-2024  Formative Assessment -III   Offline        Rhymes   \n",
       "1        2023-2024  Formative Assessment -III   Offline  Oral English   \n",
       "2        2023-2024  Formative Assessment -III   Offline    Oral Maths   \n",
       "3        2023-2024  Formative Assessment -III   Offline       English   \n",
       "4        2023-2024  Formative Assessment -III   Offline         Maths   \n",
       "\n",
       "  Subject Status  Full Mark  Pass Mark Negative Percentage Student Name  \\\n",
       "0     Evaluating         25          7                 0 %    Arman Ali   \n",
       "1     Evaluating         10          3                 0 %    Arman Ali   \n",
       "2     Evaluating         10          3                 0 %    Arman Ali   \n",
       "3     Evaluating         25          7                 0 %    Arman Ali   \n",
       "4     Evaluating         25          7                 0 %    Arman Ali   \n",
       "\n",
       "     Class Section  Roll No  Marks Secured Result  \n",
       "0  Nursery       A        1            5.0   Fail  \n",
       "1  Nursery       A        1            5.0   Pass  \n",
       "2  Nursery       A        1            0.0   Fail  \n",
       "3  Nursery       A        1            2.0   Fail  \n",
       "4  Nursery       A        1            6.0   Fail  "
      ]
     },
     "execution_count": 2,
     "metadata": {},
     "output_type": "execute_result"
    }
   ],
   "source": [
    "# Import data from excel files\n",
    "df1 = pd.read_excel('Formative Assessment -III_class_Nursery.xlsx');\n",
    "df2 = pd.read_excel('Formative Assessment -4_class_Nursery.xlsx');\n",
    "df3 = pd.read_excel('Anuual Exam 2024_class_Nursery.xlsx');\n",
    "\n",
    "# In df3, where the Full Mark is not 50, multuply the Full Mark, Pass Mark and Marks Secured by 50/Full Mark\n",
    "# df3.loc[df3['Full Mark']!=50, 'Pass Mark'] = df3['Pass Mark']*50/df3['Full Mark'];\n",
    "# df3.loc[df3['Full Mark']!=50, 'Marks Secured'] = df3['Marks Secured']*50/df3['Full Mark'];\n",
    "# df3.loc[df3['Full Mark']!=50, 'Full Mark'] = df3['Full Mark']*50/df3['Full Mark'];\n",
    "\n",
    "# In df2 and df1, where the Full Mark is not 25, multuply the Full Mark, Pass Mark and Marks Secured by 25/Full Mark\n",
    "# df2.loc[df2['Full Mark']!=25, 'Pass Mark'] = df2['Pass Mark']*25/df2['Full Mark'];\n",
    "# df2.loc[df2['Full Mark']!=25, 'Marks Secured'] = df2['Marks Secured']*25/df2['Full Mark'];\n",
    "# df2.loc[df2['Full Mark']!=25, 'Full Mark'] = df2['Full Mark']*25/df2['Full Mark'];\n",
    "\n",
    "# df1.loc[df1['Full Mark']!=25, 'Pass Mark'] = df1['Pass Mark']*25/df1['Full Mark'];\n",
    "# df1.loc[df1['Full Mark']!=25, 'Marks Secured'] = df1['Marks Secured']*25/df1['Full Mark'];\n",
    "# df1.loc[df1['Full Mark']!=25, 'Full Mark'] = df1['Full Mark']*25/df1['Full Mark'];\n",
    "\n",
    "# Merge the dataframes\n",
    "df = pd.concat([df1, df2, df3], ignore_index=True);\n",
    "\n",
    "# print the head\n",
    "df.head()"
   ]
  },
  {
   "cell_type": "code",
   "execution_count": 3,
   "metadata": {},
   "outputs": [
    {
     "name": "stdout",
     "output_type": "stream",
     "text": [
      "Number of cells with value 0 in marks secured column:  101\n",
      "Student names with value 0 in marks secured column:  ['Arman Ali' 'Riyan Rabha' 'Aryan Bhagat' 'Niket Kumar Choudhury'\n",
      " 'Harshita Kalita' 'Rishi Rohang' 'Arrika Chetri' 'Nirabh Jyoti Gyan'\n",
      " 'Ankita Kumari' 'Mridansh Das' 'Sauvik Das' 'Satyam Kumar Yadav'\n",
      " 'Ayan Dubey' 'Priyanshi Medhi' 'Kritika Barman']\n"
     ]
    }
   ],
   "source": [
    "# Print the number of cells with value 0 in marks secured column\n",
    "print('Number of cells with value 0 in marks secured column: ', df[df['Marks Secured']==0].shape[0])\n",
    "\n",
    "# Print the student names with value 0 in marks secured column\n",
    "print('Student names with value 0 in marks secured column: ', df[df['Marks Secured']==0]['Student Name'].unique())"
   ]
  },
  {
   "cell_type": "code",
   "execution_count": 4,
   "metadata": {},
   "outputs": [],
   "source": [
    "# Get all the Subject names\n",
    "subjects = df['Subject Name'].unique();\n",
    "\n",
    "# Get all the students\n",
    "students = df['Student Name'].unique();\n",
    "\n",
    "# Get all the Exam names\n",
    "exams = df['Exam Name'].unique();"
   ]
  },
  {
   "cell_type": "code",
   "execution_count": 5,
   "metadata": {},
   "outputs": [
    {
     "name": "stdout",
     "output_type": "stream",
     "text": [
      "Number of Subjects:  6\n",
      "Subjects:  ['Rhymes' 'Oral English' 'Oral Maths' 'English' 'Maths' 'Drawing']\n",
      "Number of Students:  42\n",
      "Number of Exams:  3\n"
     ]
    }
   ],
   "source": [
    "# print the number of subjects\n",
    "print('Number of Subjects: ', len(subjects));\n",
    "# Print the subjects\n",
    "print('Subjects: ', subjects);\n",
    "# print the number of students\n",
    "print('Number of Students: ', len(students));\n",
    "\n",
    "# print the number of exams\n",
    "print('Number of Exams: ', len(exams));"
   ]
  },
  {
   "cell_type": "code",
   "execution_count": null,
   "metadata": {},
   "outputs": [],
   "source": [
    "# Create a new dataframe for students data\n",
    "df_new = pd.DataFrame(students, columns=['Student Name']);\n",
    "\n",
    "# Loop through all the students\n",
    "for student in students:\n",
    "    # Find the first row of the student in the dataframe\n",
    "    row = df.loc[df['Student Name'] == student].iloc[0];\n",
    "    # Add the Class, Section, Roll No to the new dataframe\n",
    "    df_new.loc[df_new['Student Name'] == student, 'Class'] = row['Class'];\n",
    "    df_new.loc[df_new['Student Name'] == student, 'Section'] = row['Section'];\n",
    "    df_new.loc[df_new['Student Name'] == student, 'Roll No'] = row['Roll No'];\n",
    "\n",
    "df_new.head()"
   ]
  },
  {
   "cell_type": "code",
   "execution_count": null,
   "metadata": {},
   "outputs": [],
   "source": [
    "# Add columns for each exam and subject\n",
    "for exam in exams:\n",
    "    for subject in subjects:\n",
    "        df_new[exam + '_' + subject] = 0;\n",
    "        df_new[exam + '_' + subject + '_total'] = 0;\n",
    "        df_new[exam + '_' + subject + '_pass'] = 0;\n",
    "\n",
    "df_new.head()"
   ]
  },
  {
   "cell_type": "code",
   "execution_count": null,
   "metadata": {},
   "outputs": [],
   "source": [
    "# Add marks to the new dataframe\n",
    "for student in students:\n",
    "    for exam in exams:\n",
    "        for subject in subjects:\n",
    "            # full marks\n",
    "            full_mark = df.loc[(df['Exam Name'] == exam) & (df['Subject Name'] == subject), 'Full Mark'].iloc[0];\n",
    "            # pass marks\n",
    "            pass_mark = df.loc[(df['Exam Name'] == exam) & (df['Subject Name'] == subject), 'Pass Mark'].iloc[0];\n",
    "            # Check if the row of the student is in the dataframe\n",
    "            if df.loc[(df['Student Name'] == student) & (df['Exam Name'] == exam) & (df['Subject Name'] == subject)].empty:\n",
    "                # If it doesn't exist, add 0 to the new dataframe\n",
    "                df_new.loc[df_new['Student Name'] == student, exam + '_' + subject] = 0;\n",
    "                df_new.loc[df_new['Student Name'] == student, exam + '_' + subject + '_total'] = full_mark;\n",
    "                df_new.loc[df_new['Student Name'] == student, exam + '_' + subject + '_pass'] = pass_mark;\n",
    "            else:\n",
    "                # If it exists, get the row\n",
    "                row = df.loc[(df['Student Name'] == student) & (df['Exam Name'] == exam) & (df['Subject Name'] == subject)].iloc[0];\n",
    "                # Add the marks to the new dataframe\n",
    "                df_new.loc[df_new['Student Name'] == student, exam + '_' + subject] = row['Marks Secured'];\n",
    "                df_new.loc[df_new['Student Name'] == student, exam + '_' + subject + '_total'] = full_mark;\n",
    "                df_new.loc[df_new['Student Name'] == student, exam + '_' + subject + '_pass'] = pass_mark;\n",
    "df_new.head()"
   ]
  },
  {
   "cell_type": "code",
   "execution_count": null,
   "metadata": {},
   "outputs": [],
   "source": [
    "# Add weightage column for each subject\n",
    "for subject in subjects:\n",
    "    df_new['Weightage ' + subject] = np.nan;\n",
    "\n",
    "df_new.head()"
   ]
  },
  {
   "cell_type": "code",
   "execution_count": null,
   "metadata": {},
   "outputs": [],
   "source": [
    "# Calculate the weightage for each subject by taking the 100% from FA3, 100% from FA4 and 100% from Annual\n",
    "for subject in subjects:\n",
    "    df_new['Weightage ' + subject] = round(df_new['Formative Assessment -III_' + subject] * 1.0 + df_new['Formative Assessment -4_' + subject] * 1.0 + df_new['Anuual Exam 2024_' + subject] * 1.0, 2);\n",
    "    # Calculate the full weightage for each subject by taking the 100% from FA3, 100% from FA4 and 100% from Annual\n",
    "    df_new['Weightage ' + subject + ' total'] = df_new['Formative Assessment -III_' + subject + '_total'] * 1.0 + df_new['Formative Assessment -4_' + subject + '_total'] * 1.0 + df_new['Anuual Exam 2024_' + subject + '_total'] * 1.0;"
   ]
  },
  {
   "cell_type": "code",
   "execution_count": null,
   "metadata": {},
   "outputs": [],
   "source": [
    "# Calculate the weightage result for each subject, pass if weightage is greater than 30% of the full weightage\n",
    "for subject in subjects:\n",
    "    # calculate the weightage result\n",
    "    df_new['Result ' + subject] = np.where(df_new['Weightage ' + subject] >= df_new['Weightage ' + subject + ' total'] * 0.3, 'Pass', 'Fail');"
   ]
  },
  {
   "cell_type": "code",
   "execution_count": null,
   "metadata": {},
   "outputs": [],
   "source": [
    "# Add a total column for the weightage\n",
    "df_new['Total Weightage'] = 0;\n",
    "\n",
    "# Calculate the total weightage using a loop of all the subjects\n",
    "for subject in subjects:\n",
    "    df_new['Total Weightage'] += df_new['Weightage ' + subject];\n",
    "\n",
    "df_new.head()"
   ]
  },
  {
   "cell_type": "code",
   "execution_count": null,
   "metadata": {},
   "outputs": [],
   "source": [
    "# Add a result column\n",
    "df_new['Result'] = '';\n",
    "\n",
    "# Function to add all weightage subject total\n",
    "def add_total_weightage(row):\n",
    "    total = 0;\n",
    "    for subject in subjects:\n",
    "        total += row['Weightage ' + subject + ' total'];\n",
    "    return total;\n",
    "\n",
    "\n",
    "# Add the total marks column\n",
    "df_new['Total Marks'] = df_new.apply(add_total_weightage, axis=1);\n",
    "\n",
    "# Calculate the percentage\n",
    "df_new['Percentage'] = df_new['Total Weightage'] / df_new['Total Marks'] * 100;\n",
    "\n",
    "# Pass if total weightage is greater than 30% of total full marks\n",
    "df_new.loc[df_new['Total Weightage'] >= df_new['Total Marks'] * 0.3, 'Result'] = 'Pass';\n",
    "\n",
    "# Fail if total weightage is less than 30% of total full marks\n",
    "df_new.loc[df_new['Total Weightage'] < df_new['Total Marks'] * 0.3, 'Result'] = 'Fail';"
   ]
  },
  {
   "cell_type": "code",
   "execution_count": null,
   "metadata": {},
   "outputs": [],
   "source": [
    "# Calculate the rank\n",
    "df_new['Rank'] = df_new['Percentage'].rank(ascending=False, method='min');"
   ]
  },
  {
   "cell_type": "code",
   "execution_count": null,
   "metadata": {},
   "outputs": [],
   "source": [
    "# Print the first row\n",
    "df_new.iloc[0]"
   ]
  },
  {
   "cell_type": "code",
   "execution_count": null,
   "metadata": {},
   "outputs": [],
   "source": [
    "df_new"
   ]
  },
  {
   "cell_type": "code",
   "execution_count": null,
   "metadata": {},
   "outputs": [],
   "source": [
    "# Export the dataframe to excel\n",
    "df_new.to_excel('Result_Final.xlsx', index=False);"
   ]
  },
  {
   "cell_type": "code",
   "execution_count": null,
   "metadata": {},
   "outputs": [],
   "source": [
    "# Combine the charts in one figure\n",
    "fig, axes = plt.subplots(2, 3, figsize=(20, 10));\n",
    "\n",
    "# Set the title of the figure\n",
    "fig.suptitle('Final Result Analysis: Class Nursery', fontsize=20);\n",
    "\n",
    "for i, subject in enumerate(subjects):\n",
    "    sns.countplot(x='Result ' + subject, data=df_new, palette='Set1', order=['Fail', 'Pass'], ax=axes[i // 3, i % 3]);\n",
    "    axes[i // 3, i % 3].set_title('Result ' + subject, fontsize=15);\n",
    "    axes[i // 3, i % 3].set_xlabel('Result', fontsize=10);\n",
    "    axes[i // 3, i % 3].set_ylabel('Count', fontsize=10);\n",
    "    axes[i // 3, i % 3].tick_params(labelsize=10);\n",
    "    axes[i // 3, i % 3].set_xticklabels(axes[i // 3, i % 3].get_xticklabels(), rotation=45);\n",
    "    # Add top padding\n",
    "    axes[i // 3, i % 3].set_ylim([0, 30]);\n",
    "\n",
    "    # Add the count on top of the bars\n",
    "    for p in axes[i // 3, i % 3].patches:\n",
    "        axes[i // 3, i % 3].annotate(format(p.get_height(), '.0f'), (p.get_x() + p.get_width() / 2., p.get_height()), ha = 'center', va = 'center', xytext = (0, 10), textcoords = 'offset points');\n",
    "    \n",
    "# Add large gap between rows\n",
    "plt.tight_layout(rect=[0, 0.03, 1, 0.95]);\n",
    "plt.show();"
   ]
  },
  {
   "cell_type": "code",
   "execution_count": null,
   "metadata": {},
   "outputs": [],
   "source": [
    "# A line plot with student names on x-axis and percentage on y-axis.\n",
    "# Ordered by rank\n",
    "# Add a horizontal line at 30% to show the pass mark\n",
    "# Add a horizontal line to show the average percentage\n",
    "# Points with percentage less than 30% are red and points with percentage greater than 30% are green\n",
    "\n",
    "plt.figure(figsize=(20, 10));\n",
    "sns.lineplot(x='Student Name', y='Percentage', data=df_new.sort_values('Student Name'), marker='o');\n",
    "plt.axhline(y=30, color='r', linestyle='--', label='Pass Mark');\n",
    "plt.axhline(y=df_new['Percentage'].mean(), color='g', linestyle='--', label='Average Percentage');\n",
    "plt.title('Percentage of Students', fontsize=20);\n",
    "plt.xlabel('Student Name', fontsize=15);\n",
    "plt.ylabel('Percentage', fontsize=15);\n",
    "plt.xticks(rotation=90);\n",
    "plt.legend();\n",
    "\n",
    "# Add transparant grid lines at every 10% on y-axis\n",
    "plt.grid(alpha=0.3);\n",
    "\n",
    "plt.show();"
   ]
  }
 ],
 "metadata": {
  "kernelspec": {
   "display_name": "Python 3.9.7 ('base')",
   "language": "python",
   "name": "python3"
  },
  "language_info": {
   "codemirror_mode": {
    "name": "ipython",
    "version": 3
   },
   "file_extension": ".py",
   "mimetype": "text/x-python",
   "name": "python",
   "nbconvert_exporter": "python",
   "pygments_lexer": "ipython3",
   "version": "3.9.7"
  },
  "vscode": {
   "interpreter": {
    "hash": "89f5398215e4bd68194ecfb3274f78f2b2188f90ccad3a120f4c53eb3abccfec"
   }
  }
 },
 "nbformat": 4,
 "nbformat_minor": 2
}
